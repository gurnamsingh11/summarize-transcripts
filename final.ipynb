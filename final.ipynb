{
 "cells": [
  {
   "cell_type": "code",
   "execution_count": 41,
   "id": "aa8abbb3",
   "metadata": {},
   "outputs": [],
   "source": [
    "import re\n",
    "import os\n",
    "from openai import AzureOpenAI\n",
    "from langchain_core.output_parsers import JsonOutputParser\n",
    "from langchain_core.prompts import PromptTemplate\n",
    "from langchain_core.messages import HumanMessage\n",
    "from langchain_openai import AzureChatOpenAI\n",
    "from pydantic import BaseModel, Field\n",
    "from datetime import datetime\n",
    "import pandas as pd\n",
    "import docx2txt\n",
    "import json\n",
    "from tqdm import tqdm\n",
    "from pathlib import Path as p\n",
    "import urllib\n",
    "import warnings\n",
    "from langchain_core.output_parsers import StrOutputParser\n",
    "from langchain_core.prompts import ChatPromptTemplate\n",
    "from langchain import PromptTemplate\n",
    "from langchain.chains.summarize import load_summarize_chain\n",
    "from langchain_text_splitters import CharacterTextSplitter\n",
    "from langchain_community.document_loaders import DirectoryLoader\n",
    "from langchain_community.document_loaders import Docx2txtLoader\n",
    "from langchain_core.documents import Document\n",
    "import pandas as pd\n",
    "import asyncio\n",
    "import uuid\n",
    "import tiktoken\n",
    "from gensim.parsing.preprocessing import remove_stopwords\n",
    "import operator\n",
    "from typing import Annotated, List, Literal, TypedDict\n",
    "\n",
    "from langchain.chains.combine_documents.reduce import (\n",
    "    acollapse_docs,\n",
    "    split_list_of_docs,\n",
    ")\n",
    "from langchain_core.documents import Document\n",
    "from langgraph.constants import Send\n",
    "from langgraph.graph import END, START, StateGraph\n",
    "\n",
    "\n",
    "warnings.filterwarnings(\"ignore\")"
   ]
  },
  {
   "cell_type": "code",
   "execution_count": 42,
   "id": "f7bd5803",
   "metadata": {},
   "outputs": [],
   "source": [
    "encoding = tiktoken.get_encoding(\"cl100k_base\")\n",
    "os.environ[\"AZURE_OPENAI_API_KEY\"] = \"ee65aca022a74803b2e2d1ff4c373b05\"\n",
    "os.environ[\"AZURE_OPENAI_ENDPOINT\"] = \"https://firstsource.openai.azure.com/\"\n",
    "os.environ[\"AZURE_OPENAI_API_VERSION\"] = \"2024-05-01-preview\"\n",
    "os.environ[\"AZURE_OPENAI_CHAT_DEPLOYMENT_NAME\"] = \"gpt4\""
   ]
  },
  {
   "cell_type": "code",
   "execution_count": 55,
   "id": "e188087c",
   "metadata": {},
   "outputs": [],
   "source": [
    "parameters_prompt = '''You are a sales assistant tasked with summarizing email or phone conversations between a university salesperson and a prospective student. Based on the provided email summary, your goal is to construct a comprehensive student profile, develop a targeted campaign, craft a personalized sales pitch, and assess the student’s interest level in the university's program.\n",
    "\n",
    "Student Persona\n",
    "Name: (Student’s name if available, otherwise \"NA\")\n",
    "Age: (Age if available otherwise mark as \"NA\")\n",
    "Location: (Student's location, or mark as \"NA\")\n",
    "Interest: (Summarize the student’s interest in the program or field of study. If not stated, mark as \"NA\")\n",
    "Behavior: (Describe any behavioral traits or actions from the emails that indicate the student's approach to education, such as responsiveness, motivation, or any other relevant insights)\n",
    "Dislikes: (Mention any dislikes expressed in the conversation about education, programs, or formats. Mark as \"NA\" if unavailable)\n",
    "Likes: (Include any expressed likes, such as flexibility, subject matter, or specific university features. Mark as \"NA\" if not mentioned)\n",
    "Modes of Communication: (Identify all modes of communication between Salesperson and Student)\n",
    "Preferred Communication: (Identify the student's preferred communication method—email, phone, etc. Mark as \"NA\" if not specified)\n",
    "\n",
    "Potential Campaign\n",
    "Theme: (Craft a campaign theme based on the student’s interests and persona. Example: \"Empowering Working Professionals with Flexible Learning\")\n",
    "Content Focus: (Outline the content to feature in this campaign, e.g., \"Showcase alumni success stories, emphasize career advancement opportunities, highlight flexible schedules\")\n",
    "Platforms: (List suitable platforms for the campaign, such as \"Email marketing, webinars, blog posts, or social media ads\")\n",
    "\n",
    "Sales Strategy\n",
    "Personalized Sales Pitch: (Write a customized message addressing the student's needs, aspirations, and any concerns.\n",
    "\n",
    "Sentiment\n",
    "Student Sentiment: (Assess the overall sentiment from the conversation, such as \"Excited\", \"Curious\", \"Optimistic\", \"Anxious\", \"Confused\", \"Skeptical\", \"Indecisive\", \"Disappointed\", \"Confident\", \"Motivated\", \"Overwhelmed\", \"Frustrated\", \"Reluctant\", \"Satisfied\" into a single sentiment.)\n",
    "\n",
    "Lead Score\n",
    "Lead Interest Level: (Rate the student’s potential interest in the program: Low, Medium, or High, based on the tone and content of the conversation)'''"
   ]
  },
  {
   "cell_type": "code",
   "execution_count": 44,
   "id": "42037c35",
   "metadata": {},
   "outputs": [],
   "source": [
    "llm = AzureChatOpenAI(\n",
    "api_key=os.environ[\"AZURE_OPENAI_API_KEY\"],\n",
    "api_version=os.environ[\"AZURE_OPENAI_API_VERSION\"],\n",
    "azure_endpoint=os.environ[\"AZURE_OPENAI_ENDPOINT\"],\n",
    "azure_deployment=os.environ[\"AZURE_OPENAI_CHAT_DEPLOYMENT_NAME\"],\n",
    "model='gpt-4o'\n",
    ")"
   ]
  },
  {
   "cell_type": "code",
   "execution_count": 45,
   "id": "283bf458",
   "metadata": {},
   "outputs": [],
   "source": [
    "def num_tokens_from_string(string: str, encoding_name: str) -> int:\n",
    "    \"\"\"Returns the number of tokens in a text string.\"\"\"\n",
    "    encoding = tiktoken.get_encoding(encoding_name)\n",
    "    num_tokens = len(encoding.encode(string))\n",
    "    return num_tokens"
   ]
  },
  {
   "cell_type": "code",
   "execution_count": 46,
   "id": "0ffb4728",
   "metadata": {},
   "outputs": [],
   "source": [
    "token_max = 1000\n",
    "\n",
    "\n",
    "def length_function(documents: List[Document]) -> int:\n",
    "    \"\"\"Get number of tokens for input contents.\"\"\"\n",
    "    return sum(llm.get_num_tokens(doc.page_content) for doc in documents)\n",
    "\n",
    "\n",
    "class OverallState(TypedDict):\n",
    "    contents: List[str]\n",
    "    summaries: Annotated[list, operator.add]\n",
    "    collapsed_summaries: List[Document]\n",
    "    final_summary: str\n",
    "\n",
    "class SummaryState(TypedDict):\n",
    "    content: str\n",
    "\n",
    "\n",
    "async def generate_summary(state: SummaryState):\n",
    "    response = await map_chain.ainvoke(state[\"content\"])\n",
    "    return {\"summaries\": [response]}\n",
    "\n",
    "\n",
    "def map_summaries(state: OverallState):\n",
    "    return [\n",
    "        Send(\"generate_summary\", {\"content\": content}) for content in state[\"contents\"]\n",
    "    ]\n",
    "\n",
    "\n",
    "def collect_summaries(state: OverallState):\n",
    "    return {\n",
    "        \"collapsed_summaries\": [Document(summary) for summary in state[\"summaries\"]]\n",
    "    }\n",
    "\n",
    "\n",
    "async def collapse_summaries(state: OverallState):\n",
    "    doc_lists = split_list_of_docs(\n",
    "        state[\"collapsed_summaries\"], length_function, token_max\n",
    "    )\n",
    "    results = []\n",
    "    for doc_list in doc_lists:\n",
    "        results.append(await acollapse_docs(doc_list, reduce_chain.ainvoke))\n",
    "\n",
    "    return {\"collapsed_summaries\": results}\n",
    "\n",
    "\n",
    "def should_collapse(\n",
    "    state: OverallState,\n",
    ") -> Literal[\"collapse_summaries\", \"generate_final_summary\"]:\n",
    "    num_tokens = length_function(state[\"collapsed_summaries\"])\n",
    "    if num_tokens > token_max:\n",
    "        return \"collapse_summaries\"\n",
    "    else:\n",
    "        return \"generate_final_summary\"\n",
    "\n",
    "\n",
    "async def generate_final_summary(state: OverallState):\n",
    "    response = await reduce_chain.ainvoke(state[\"collapsed_summaries\"])\n",
    "    return {\"final_summary\": response}\n",
    "\n",
    "\n",
    "graph = StateGraph(OverallState)\n",
    "graph.add_node(\"generate_summary\", generate_summary)  # same as before\n",
    "graph.add_node(\"collect_summaries\", collect_summaries)\n",
    "graph.add_node(\"collapse_summaries\", collapse_summaries)\n",
    "graph.add_node(\"generate_final_summary\", generate_final_summary)\n",
    "\n",
    "graph.add_conditional_edges(START, map_summaries, [\"generate_summary\"])\n",
    "graph.add_edge(\"generate_summary\", \"collect_summaries\")\n",
    "graph.add_conditional_edges(\"collect_summaries\", should_collapse)\n",
    "graph.add_conditional_edges(\"collapse_summaries\", should_collapse)\n",
    "graph.add_edge(\"generate_final_summary\", END)\n",
    "\n",
    "app = graph.compile()"
   ]
  },
  {
   "cell_type": "code",
   "execution_count": 47,
   "id": "a1319de9",
   "metadata": {},
   "outputs": [],
   "source": [
    "map_prompt = ChatPromptTemplate.from_messages(\n",
    "    [(\"system\", \"Write a concise one-liner summary of the following conversation, including any student information mentioned, the date of the conversation, the communication channel (phone, email, WhatsApp), the student's level of interest (Low, Medium, or High), and their emotional state (Excited, Curious, Optimistic, Anxious, Confused, Skeptical, Indecisive, Disappointed, Confident, Motivated, Overwhelmed, Frustrated, Neutral, Reluctant, or Satisfied):\\n\\n{context}\")])\n",
    "\n",
    "map_chain = map_prompt | llm | StrOutputParser()"
   ]
  },
  {
   "cell_type": "code",
   "execution_count": 48,
   "id": "33d868ee",
   "metadata": {},
   "outputs": [],
   "source": [
    "reduce_template = \"\"\"\n",
    "The following are summaries of conversations in no particular order:\n",
    "{docs}\n",
    "Please organize these summaries in ascending order by date if available. If dates are not provided, maintain their original order.\n",
    "\n",
    "\"\"\"\n",
    "\n",
    "reduce_prompt = ChatPromptTemplate([(\"human\", reduce_template)])\n",
    "\n",
    "reduce_chain = reduce_prompt | llm | StrOutputParser()"
   ]
  },
  {
   "cell_type": "code",
   "execution_count": 49,
   "id": "dc5a3ac7",
   "metadata": {},
   "outputs": [],
   "source": [
    "docs = [Document(page_content=('''--- Content of 10_Apr_2024_0338_Adeola_Oyetunji.docx ---\n",
    "\n",
    "Subject:Re: UCLan Online - Application Transfer\n",
    "\n",
    "10 Apr 2024 at 03:38\n",
    "\n",
    "I am still struggling to apply for my student finance but I will try and sort it after my admission has been confirmed. \n",
    "\n",
    "Thank you \n",
    "Adeola \n",
    "\n",
    "On Monday, 8 April 2024 at 09:17:21 BST, Henry Norman <> wrote:\n",
    "\n",
    "\n",
    "Hey Adeola,\n",
    "\n",
    "Brilliant, thank you for getting this sorted. \n",
    "\n",
    "I will get the admissions team to transfer you over to the online programme ASAP. \n",
    "We should hopefully issue you a response very soon. \n",
    "\n",
    "Have you been able to apply for your student finance at all?\n",
    "\n",
    "Let me know if you have any questions.\n",
    "\n",
    "Best Wishes,\n",
    "Henry Norman\n",
    "UCLan ONLINE | \n",
    "Email: \n",
    "Tel:  | WhatsApp: \n",
    "LinkedIn: \n",
    "\n",
    "\n",
    "\n",
    "\n",
    "\n",
    "From: Adeola Oyetunji <>\n",
    "Sent: Saturday, April 6, 2024 5:31 AM\n",
    "To: Henry Norman (Staff) <>\n",
    "Subject: Re: UCLan Online - Application Transfer\n",
    " \n",
    "Hi Henry,\n",
    "\n",
    "I wish to apply for MSc Nursing, part time to start in May. Thank you \n",
    "Adeola \n",
    "\n",
    "On Thursday, 4 April 2024 at 13:11:15 BST, Henry Norman <> wrote:\n",
    "\n",
    "\n",
    "Hey Adeola,\n",
    "\n",
    "We have found your application and we need to have it transferred to Online and for the MSc Nursing programme.\n",
    "\n",
    "Please can you email a response to me and confirm that you wish:\n",
    "To Study MSc Nursing\n",
    "To Study Online and Part-time\n",
    "To Start in the May intake\n",
    "I very much look forward to your response, as soon as we can get this transferred the sooner we can get you a response from the admissions team!\n",
    "\n",
    "Best Wishes,\n",
    "Henry Norman\n",
    "UCLan ONLINE | \n",
    "Email: \n",
    "Tel:  | WhatsApp: \n",
    "LinkedIn: \n",
    "\n",
    "\n",
    "\n",
    "\n",
    "\n",
    "\n",
    "--- Content of 10_Apr_2024_1514_Adeola_Oyetunji.docx ---\n",
    "\n",
    "Subject:Re: UCLan Online - Application Transfer\n",
    "\n",
    "10 Apr 2024 at 15:14 GMT\n",
    "\n",
    "Hey Adeola,\n",
    "\n",
    "What are issues are you facing when trying to apply for SFE? The process should be quite simple and just follow the prompts when you apply.\n",
    "\n",
    "Let me know.\n",
    "\n",
    "Best Wishes,\n",
    "Henry Norman\n",
    "UCLan ONLINE | \n",
    "Email: \n",
    "Tel:  | WhatsApp: \n",
    "LinkedIn: \n",
    "\n",
    "\n",
    "\n",
    "\n",
    "\n",
    "I am still struggling to apply for my student finance but I will try and sort it after my admission has been confirmed. \n",
    "\n",
    "Thank you \n",
    "Adeola \n",
    "\n",
    "On Monday, 8 April 2024 at 09:17:21 BST, Henry Norman <> wrote:\n",
    "\n",
    "\n",
    "Hey Adeola,\n",
    "\n",
    "Brilliant, thank you for getting this sorted. \n",
    "\n",
    "I will get the admissions team to transfer you over to the online programme ASAP. \n",
    "We should hopefully issue you a response very soon. \n",
    "\n",
    "Have you been able to apply for your student finance at all?\n",
    "\n",
    "Let me know if you have any questions.\n",
    "\n",
    "Best Wishes,\n",
    "Henry Norman\n",
    "UCLan ONLINE | \n",
    "Email: \n",
    "Tel:  | WhatsApp: \n",
    "LinkedIn: \n",
    "\n",
    "\n",
    "\n",
    "\n",
    "\n",
    "From: Adeola Oyetunji <>\n",
    "Sent: Saturday, April 6, 2024 5:31 AM\n",
    "To: Henry Norman (Staff) <>\n",
    "Subject: Re: UCLan Online - Application Transfer\n",
    " \n",
    "Hi Henry,\n",
    "\n",
    "I wish to apply for MSc Nursing, part time to start in May. Thank you \n",
    "Adeola \n",
    "\n",
    "On Thursday, 4 April 2024 at 13:11:15 BST, Henry Norman <> wrote:\n",
    "\n",
    "\n",
    "Hey Adeola,\n",
    "\n",
    "We have found your application and we need to have it transferred to Online and for the MSc Nursing programme.\n",
    "\n",
    "Please can you email a response to me and confirm that you wish:\n",
    "To Study MSc Nursing\n",
    "To Study Online and Part-time\n",
    "To Start in the May intake\n",
    "I very much look forward to your response, as soon as we can get this transferred the sooner we can get you a response from the admissions team!\n",
    "\n",
    "Best Wishes,\n",
    "Henry Norman\n",
    "UCLan ONLINE | \n",
    "Email: \n",
    "Tel:  | WhatsApp: \n",
    "LinkedIn: \n",
    "'''), metadata={\"source\":\"local\"})]"
   ]
  },
  {
   "cell_type": "code",
   "execution_count": 50,
   "id": "6694a567",
   "metadata": {},
   "outputs": [],
   "source": [
    "# docs"
   ]
  },
  {
   "cell_type": "code",
   "execution_count": 51,
   "id": "996efe50",
   "metadata": {},
   "outputs": [
    {
     "name": "stdout",
     "output_type": "stream",
     "text": [
      "Generated 1 documents.\n",
      "['generate_summary']\n",
      "['collect_summaries']\n",
      "['generate_final_summary']\n"
     ]
    }
   ],
   "source": [
    "text_splitter = CharacterTextSplitter.from_tiktoken_encoder(\n",
    "    chunk_size=1000, chunk_overlap=0\n",
    ")\n",
    "split_docs = text_splitter.split_documents(docs)\n",
    "print(f\"Generated {len(split_docs)} documents.\")\n",
    "\n",
    "async for step in app.astream(\n",
    "    {\"contents\": [doc.page_content for doc in split_docs]},\n",
    "    {\"recursion_limit\": 10},\n",
    "):\n",
    "    print(list(step.keys()))\n",
    "    \n",
    "final_summary = step['generate_final_summary']['final_summary']"
   ]
  },
  {
   "cell_type": "code",
   "execution_count": 32,
   "id": "005b6f7f",
   "metadata": {},
   "outputs": [
    {
     "name": "stdout",
     "output_type": "stream",
     "text": [
      "{'choices': [{'content_filter_results': {'hate': {'filtered': False, 'severity': 'safe'}, 'protected_material_code': {'filtered': False, 'detected': False}, 'protected_material_text': {'filtered': False, 'detected': False}, 'self_harm': {'filtered': False, 'severity': 'safe'}, 'sexual': {'filtered': False, 'severity': 'safe'}, 'violence': {'filtered': False, 'severity': 'safe'}}, 'finish_reason': 'stop', 'index': 0, 'logprobs': None, 'message': {'content': 'Hello! How can I assist you today?', 'role': 'assistant'}}], 'created': 1727035227, 'id': 'chatcmpl-AAN2payX5W7T43aNVyCLnbdX8AJc9', 'model': 'gpt-4o-2024-08-06', 'object': 'chat.completion', 'prompt_filter_results': [{'prompt_index': 0, 'content_filter_results': {'hate': {'filtered': False, 'severity': 'safe'}, 'jailbreak': {'filtered': False, 'detected': False}, 'self_harm': {'filtered': False, 'severity': 'safe'}, 'sexual': {'filtered': False, 'severity': 'safe'}, 'violence': {'filtered': False, 'severity': 'safe'}}}], 'system_fingerprint': 'fp_32078a134a', 'usage': {'completion_tokens': 9, 'prompt_tokens': 14, 'total_tokens': 23}}\n"
     ]
    }
   ],
   "source": [
    "import os\n",
    "import requests\n",
    "\n",
    "# Configuration\n",
    "API_KEY = \"3705201e84d74f23b1153f93a6b2defd\"\n",
    "headers = {\n",
    "    \"Content-Type\": \"application/json\",\n",
    "    \"api-key\": API_KEY,\n",
    "}\n",
    "\n",
    "# Payload for the request\n",
    "payload = {\n",
    "  \"messages\": [\n",
    "    {\n",
    "      \"role\": \"system\",\n",
    "      \"content\": [\n",
    "        {\n",
    "          \"type\": \"text\",\n",
    "          \"text\": parameters_prompt\n",
    "        }\n",
    "      ]\n",
    "    },\n",
    "    {\n",
    "      \"role\": \"user\",\n",
    "      \"content\": [\n",
    "        {\n",
    "          \"type\": \"text\",\n",
    "          \"text\": final_summary\n",
    "        }\n",
    "      ]\n",
    "    }\n",
    "  ],\n",
    "  \"temperature\": 0.1,\n",
    "  \"top_p\": 0.95,\n",
    "  \"max_tokens\": 800\n",
    "}\n",
    "\n",
    "ENDPOINT = \"https://finetuningtest3607433214.openai.azure.com/openai/deployments/gpt-4o-2024-08-06-studentdata/chat/completions?api-version=2024-02-15-preview\"\n",
    "\n",
    "# Send request\n",
    "try:\n",
    "    response = requests.post(ENDPOINT, headers=headers, json=payload)\n",
    "    response.raise_for_status()  # Will raise an HTTPError if the HTTP request returned an unsuccessful status code\n",
    "except requests.RequestException as e:\n",
    "    raise SystemExit(f\"Failed to make the request. Error: {e}\")\n",
    "\n",
    "# Handle the response as needed (e.g., print or process)\n",
    "print(response.json())"
   ]
  },
  {
   "cell_type": "code",
   "execution_count": 13,
   "id": "08ecf61e",
   "metadata": {},
   "outputs": [],
   "source": [
    "# final_response = response.json()"
   ]
  },
  {
   "cell_type": "code",
   "execution_count": 14,
   "id": "e57b835b",
   "metadata": {},
   "outputs": [],
   "source": [
    "# print(parameters_prompt)"
   ]
  },
  {
   "cell_type": "code",
   "execution_count": 15,
   "id": "1cedf10a",
   "metadata": {},
   "outputs": [],
   "source": [
    "# print(final_response['choices'][0]['message']['content'])"
   ]
  },
  {
   "cell_type": "code",
   "execution_count": 16,
   "id": "708c9ccf",
   "metadata": {},
   "outputs": [],
   "source": [
    "# Convert the following code to a single function which takes 'data' as input\n",
    "\n",
    "# docs = [Document(page_content=(data), metadata={\"source\":\"local\"})]\n",
    "# text_splitter = CharacterTextSplitter.from_tiktoken_encoder(\n",
    "#     chunk_size=1000, chunk_overlap=0\n",
    "# )\n",
    "# split_docs = text_splitter.split_documents(docs)\n",
    "# print(f\"Generated {len(split_docs)} documents.\")\n",
    "\n",
    "# async for step in app.astream(\n",
    "#     {\"contents\": [doc.page_content for doc in split_docs]},\n",
    "#     {\"recursion_limit\": 10},\n",
    "# ):\n",
    "#     print(list(step.keys()))\n",
    "    \n",
    "# final_summary = step['generate_final_summary']['final_summary']\n",
    "\n",
    "# payload = {\n",
    "#   \"messages\": [\n",
    "#     {\n",
    "#       \"role\": \"system\",\n",
    "#       \"content\": [\n",
    "#         {\n",
    "#           \"type\": \"text\",\n",
    "#           \"text\": parameters_prompt\n",
    "#         }\n",
    "#       ]\n",
    "#     },\n",
    "#     {\n",
    "#       \"role\": \"user\",\n",
    "#       \"content\": [\n",
    "#         {\n",
    "#           \"type\": \"text\",\n",
    "#           \"text\": final_summary\n",
    "#         }\n",
    "#       ]\n",
    "#     }\n",
    "#   ],\n",
    "#   \"temperature\": 0.1,\n",
    "#   \"top_p\": 0.95,\n",
    "#   \"max_tokens\": 800\n",
    "# }\n",
    "\n",
    "# try:\n",
    "#     response = requests.post(ENDPOINT, headers=headers, json=payload)\n",
    "#     response.raise_for_status()\n",
    "# except requests.RequestException as e:\n",
    "#     raise SystemExit(f\"Failed to make the request. Error: {e}\")\n",
    "\n",
    "# print(response.json())"
   ]
  },
  {
   "cell_type": "code",
   "execution_count": 17,
   "id": "c5368069",
   "metadata": {},
   "outputs": [],
   "source": [
    "async def process_data(data):\n",
    "    # Create document\n",
    "    docs = [Document(page_content=(data), metadata={\"source\": \"local\"})]\n",
    "    \n",
    "    # Initialize text splitter\n",
    "    text_splitter = CharacterTextSplitter.from_tiktoken_encoder(\n",
    "        chunk_size=1000, chunk_overlap=0\n",
    "    )\n",
    "    \n",
    "    # Split document into smaller chunks\n",
    "    split_docs = text_splitter.split_documents(docs)\n",
    "    print(f\"Generated {len(split_docs)} documents.\")\n",
    "    \n",
    "    # Generate final summary asynchronously\n",
    "    async for step in app.astream(\n",
    "        {\"contents\": [doc.page_content for doc in split_docs]},\n",
    "        {\"recursion_limit\": 10},\n",
    "    ):\n",
    "        print(list(step.keys()))\n",
    "    \n",
    "    final_summary = step['generate_final_summary']['final_summary']\n",
    "    \n",
    "    # Prepare payload for API request\n",
    "    payload = {\n",
    "      \"messages\": [\n",
    "        {\n",
    "          \"role\": \"system\",\n",
    "          \"content\": [\n",
    "            {\n",
    "              \"type\": \"text\",\n",
    "              \"text\": parameters_prompt\n",
    "            }\n",
    "          ]\n",
    "        },\n",
    "        {\n",
    "          \"role\": \"user\",\n",
    "          \"content\": [\n",
    "            {\n",
    "              \"type\": \"text\",\n",
    "              \"text\": final_summary\n",
    "            }\n",
    "          ]\n",
    "        }\n",
    "      ],\n",
    "      \"temperature\": 0.1,\n",
    "      \"top_p\": 0.95,\n",
    "      \"max_tokens\": 800\n",
    "    }\n",
    "    \n",
    "    # Make API request and handle errors\n",
    "    try:\n",
    "        response = requests.post(ENDPOINT, headers=headers, json=payload)\n",
    "        response.raise_for_status()\n",
    "    except requests.RequestException as e:\n",
    "        raise SystemExit(f\"Failed to make the request. Error: {e}\")\n",
    "    \n",
    "    # Print and return the API response\n",
    "#     print(response.json())\n",
    "    return response.json()"
   ]
  },
  {
   "cell_type": "code",
   "execution_count": 29,
   "id": "32b2b6ae",
   "metadata": {},
   "outputs": [],
   "source": [
    "import requests"
   ]
  },
  {
   "cell_type": "code",
   "execution_count": 33,
   "id": "5f831f64",
   "metadata": {},
   "outputs": [],
   "source": [
    "async def main():\n",
    "    # Replace with actual parameters\n",
    "    text = input()\n",
    "    num_tokens = num_tokens_from_string(text, \"cl100k_base\")\n",
    "    if num_tokens > 8000:\n",
    "        data = remove_stopwords(text)\n",
    "#         word_tokens = word_tokenize(data)\n",
    "#         data = ' '.join([t for t in word_tokens if t not in stopwords.words('english')])\n",
    "    else:\n",
    "        data = text\n",
    "    result = await process_data(data)\n",
    "    return result['choices'][0]['message']['content']"
   ]
  },
  {
   "cell_type": "code",
   "execution_count": 34,
   "id": "4f703831",
   "metadata": {},
   "outputs": [
    {
     "name": "stdout",
     "output_type": "stream",
     "text": [
      " --- Content of 10_Apr_2024_0338_Adeola_Oyetunji.docx ---  Subject:Re: UCLan Online - Application Transfer  10 Apr 2024 at 03:38  I am still struggling to apply for my student finance but I will try and sort it after my admission has been confirmed.   Thank you  Adeola   On Monday, 8 April 2024 at 09:17:21 BST, Henry Norman <> wrote:   Hey Adeola,  Brilliant, thank you for getting this sorted.   I will get the admissions team to transfer you over to the online programme ASAP.  We should hopefully issue you a response very soon.   Have you been able to apply for your student finance at all?  Let me know if you have any questions.  Best Wishes, Henry Norman UCLan ONLINE |  Email:  Tel:  | WhatsApp:  LinkedIn:       From: Adeola Oyetunji <> Sent: Saturday, April 6, 2024 5:31 AM To: Henry Norman (Staff) <> Subject: Re: UCLan Online - Application Transfer   Hi Henry,  I wish to apply for MSc Nursing, part time to start in May. Thank you  Adeola   On Thursday, 4 April 2024 at 13:11:15 BST, Henry Norman <> wrote:   Hey Adeola,  We have found your application and we need to have it transferred to Online and for the MSc Nursing programme.  Please can you email a response to me and confirm that you wish: To Study MSc Nursing To Study Online and Part-time To Start in the May intake I very much look forward to your response, as soon as we can get this transferred the sooner we can get you a response from the admissions team!  Best Wishes, Henry Norman UCLan ONLINE |  Email:  Tel:  | WhatsApp:  LinkedIn:        --- Content of 10_Apr_2024_1514_Adeola_Oyetunji.docx ---  Subject:Re: UCLan Online - Application Transfer  10 Apr 2024 at 15:14 GMT  Hey Adeola,  What are issues are you facing when trying to apply for SFE? The process should be quite simple and just follow the prompts when you apply.  Let me know.  Best Wishes, Henry Norman UCLan ONLINE |  Email:  Tel:  | WhatsApp:  LinkedIn:       I am still struggling to apply for my student finance but I will try and sort it after my admission has been confirmed.   Thank you  Adeola   On Monday, 8 April 2024 at 09:17:21 BST, Henry Norman <> wrote:   Hey Adeola,  Brilliant, thank you for getting this sorted.   I will get the admissions team to transfer you over to the online programme ASAP.  We should hopefully issue you a response very soon.   Have you been able to apply for your student finance at all?  Let me know if you have any questions.  Best Wishes, Henry Norman UCLan ONLINE |  Email:  Tel:  | WhatsApp:  LinkedIn:       From: Adeola Oyetunji <> Sent: Saturday, April 6, 2024 5:31 AM To: Henry Norman (Staff) <> Subject: Re: UCLan Online - Application Transfer   Hi Henry,  I wish to apply for MSc Nursing, part time to start in May. Thank you  Adeola   On Thursday, 4 April 2024 at 13:11:15 BST, Henry Norman <> wrote:   Hey Adeola,  We have found your application and we need to have it transferred to Online and for the MSc Nursing programme.  Please can you email a response to me and confirm that you wish: To Study MSc Nursing To Study Online and Part-time To Start in the May intake I very much look forward to your response, as soon as we can get this transferred the sooner we can get you a response from the admissions team!  Best Wishes, Henry Norman UCLan ONLINE |  Email:  Tel:  | WhatsApp:  LinkedIn:        --- Content of 11_Jan_2024_1524_Adeola_Oyetunji.docx ---  Subject:UCLan Online - We have received your Application!  11 Jan 2024 at 15:24 GMT  Hi Adeola,  I am contacting you on behalf of University of Central Lancashire admissions teams.  We are very grateful for your interest in our MSc Nursing(Distance Learning). The admissions team have reviewed your application and to complete the processing the need some additional documents.  Please kindly respond to this with the following documents: Extended CV, Personal Statement, - Approximately 500 words A section regarding your previous education history, A section regarding your recent academic or professional history, A section discussing your future interests and how you think this programme can help you achieve your goals. Full Degree Transcripts, Academic or Professional Reference, Copy of your Passport, Any additional Qualifications (As necessary). As soon as we receive these documents we can issue you a response.   Henry Norman UCLan ONLINE |  Email:  Tel:  | WhatsApp:  LinkedIn:        --- Content of 13_Feb_2023_1441_Adeola_Oyetunji.docx ---  Subject:Re: UClan - MSc Nursing  13 Feb 2023 at 14:41 GMT  Hi Adeola,  Considering that you are not replying to my phone calls nor messages, which I consider very unprofessional, I will be closing your inquiry.  Thanks Richard   Richard Allman Student Course Advisor Email:  Tel.:  WhatssApp:        --- Content of 13_Nov_2023_1034_Adeola_Oyetunji.docx ---  Subject:UCLan Online - The Future of Nursing🥼  13 Nov 2023 at 10:34 GMT  Hello Adeola ,  Thank you for making an enquiry for the online Nursing programme! We are delighted to have your interest and we are pleased that you are considering the University of Central Lancashire online. My name is Henry and I am the Nursing programme specialist. Just to confirm, is the best number to contact you on,  ?  What next? If you haven't already then please find the course brochure and syllabus attachedfor all the important course details and the link to our .    Please also check out our course blogs for further details regarding Nursing:    Like what you see? It's my job to provide you with as much information as I can about our courses and answer any questions you may have. You can arrange a call with me at any point simply by .  Ready now? If you've done your research and want to apply for our then fill in our . Good luck!  Thank you once again for your intertest and I really look forward to hearing from you soon.  Kind Regards,  Henry Norman UCLan ONLINE |  Email:  Tel:  | WhatsApp:  LinkedIn:        --- Content of 14_Feb_2023_1423_Adeola_Oyetunji.docx ---  Subject:Ask UCLan: a Virtual Open Evening- SIGN UP  14 Feb 2023 at 14:23 GMT  Hi Adeola   Hope you’re doing well. I wanted to get in touch to check if you’re interested in attending our upcoming virtual open evening? We’d love to have you join us.  Online with UCLan: Virtual Open Day Wednesday 1st of March, 6pm GMT   The event will be run as a live panel consisting of one of our course leaders, an online student and members of our student support teams and will give you the opportunity to learn more and ask about the online masters Nursing course.   You can look forward to getting a lot of amazing insight about what it’s like to study online, and our team members will be sharing useful information about our virtual learning environment and support services as well.  As always, let me know if you need any extra details, and I hope to see you there!  Kind regards,     Richard Allman Student Course Advisor Email:  Tel.:  WhatssApp:       --- Content of 16_Apr_2024_1808_Adeola_Oyetunji.docx ---  Subject:Fwd: UCLan Online - We have received your Application!  16 Jan 2024 at 18:08 GMT  Please see below for what we need!  Best Wishes, Henry Norman UCLan ONLINE |  Email:  Tel:  | WhatsApp:  LinkedIn:        -- To stop receiving these emails, click    ---------- Forwarded message --------- From: Henry Norman <> Date: Thursday, 11 January 2024, 13:24:00 Z Subject: UCLan Online - We have received your Application! To: Adeola Oyetunji <>   Hi Adeola,  I am contacting you on behalf of University of Central Lancashire admissions teams.  We are very grateful for your interest in our MSc Nursing(Distance Learning). The admissions team have reviewed your application and to complete the processing the need some additional documents.  Please kindly respond to this with the following documents: Extended CV, Personal Statement, - Approximately 500 words A section regarding your previous education history, A section regarding your recent academic or professional history, A section discussing your future interests and how you think this programme can help you achieve your goals. Full Degree Transcripts, Academic or Professional Reference, Copy of your Passport, Any additional Qualifications (As necessary). As soon as we receive these documents we can issue you a response.   Henry Norman UCLan ONLINE |  Email:  Tel:  | WhatsApp:  LinkedIn:        --- Content of 16_Aug_2023_1343_Adeola_Oyetunji.docx ---  Subject:Applied Public Health/ Nursing Event - 23 August  16 Aug 2023 at 13:43 GMT  Hi Adeola   Hope you’re doing well. I wanted to get in touch to check if you’re interested in attending our upcoming Q&A: Enhancing your Healthcare Credentials with UCLan Online? We’d love to have you join us.  Enhancing your Healthcare Credentials: A Virtual Q&A with UCLan Online Wednesday 23 August, 12:30pm BST   The event will be run as a live panel consisting of one of our course leaders, our current students and members of our support teams.  You can look forward to getting a lot of amazing insight about what it’s like to study an online MSc in Applied Public Health or Nursing; we'll be joined by Course Leader Akua Quao will be joined by current students and members of our student support team who’ll be sharing useful information about the course, the sector and career pathways.  As always, let me know if you need any extra details, and I hope to see you there!  Kind regards,  Richard Allman Student Course Advisor Email:  Tel.:  WhatssApp:        --- Content of 16_Feb_2023_0439_Adeola_Oyetunji.docx ---  Subject:Re: UClan - MSc Nursing  16 Feb 2023 at 04:39 GMT  Hi Richard ,  I lost my mom that was why I have not been responding to any messages at all. Just resumed back tonight to get me going.    Thank you  Adeola   On Monday, 13 February 2023 at 12:41:51 GMT, Richard Allman <> wrote:   Hi Adeola,  Considering that you are not replying to my phone calls nor messages, which I consider very unprofessional, I will be closing your inquiry.  Thanks Richard   Richard Allman Student Course Advisor Email:  Tel.:  WhatssApp:      -- Prefer fewer emails from me? Click    On Tuesday, 7 February 2023, 14:00:35 GMT, Richard Allman <> wrote:  Hi Adeola,  It has been a week since you told me that your personal statement is ready, however, I still have not received anything.  Can you be so kind and let me know if you are still interested to put the application in?  Thank you Richard   Richard Allman Student Course Advisor Email:  Tel.:  WhatssApp:       --- Content of 16_Jan_2024_1808_Adeola_Oyetunji.docx ---  Subject:Re: Fwd: UCLan Online - We have received your Application!  16 Jan 2024 at 18:08 GMT  Hi Adeola,  Thanks for getting me these docs!   Please can you attach the remaining documents tomorrow and we can get everything wrapped up ASAP.  We need:   Your CV Personal Statement Registration to NMC (statement of entry or something similar) Can you include the transcript part of your certificate too please, the Admissions team need that. It will only take 45-60 minutes to get these together if you have some already and it will be great to get you fully applied and processed by tomorrow.   Please call me if you have any issues at all!  Best Wishes, Henry Norman UCLan ONLINE |  Email:  Tel:  | WhatsApp:  LinkedIn:                       On Mon, 15 Jan 2024 at 16:08, Henry Norman <> wrote: Please see below for what we need!  Best Wishes, Henry Norman UCLan ONLINE |  Email:  Tel:  | WhatsApp:  LinkedIn:        -- To stop receiving these emails, click    ---------- Forwarded message --------- From: Henry Norman <> Date: Thursday, 11 January 2024, 13:24:00 Z Subject: UCLan Online - We have received your Application! To: Adeola Oyetunji <>   Hi Adeola,  I am contacting you on behalf of University of Central Lancashire admissions teams.  We are very grateful for your interest in our MSc Nursing(Distance Learning). The admissions team have reviewed your application and to complete the processing the need some additional documents.  Please kindly respond to this with the following documents: Extended CV, Personal Statement, - Approximately 500 words A section regarding your previous education history, A section regarding your recent academic or professional history, A section discussing your future interests and how you think this programme can help you achieve your goals. Full Degree Transcripts, Academic or Professional Reference, Copy of your Passport, Any additional Qualifications (As necessary). As soon as we receive these documents we can issue you a response.   Henry Norman UCLan ONLINE |  Email:  Tel:  | WhatsApp:  LinkedIn:        --- Content of 16_Nov_2023_1528_Adeola_Oyetunji.docx ---  Subject:Adeola - Your Postgrad Path!  16 Nov 2023 at 15:28 GMT  Hey Adeola ,  You recently submitted an enquiry with us regarding the Nursing masters programme and the possibility exciting career growth.  Life can get busy, and it's easy for important plans to be put on hold. However, I wanted to check in and see how you've been and if you're still interested in exploring your opportunities with us?  Our programme is designed to help our students achieve their dreams and stay relevant in the industry. You have a great opportunity to be supported along your journey and succeed in achieving your academic goals.  Your future is important to me and your pathway to that can start now. Do you have some time to talk next week to discuss your enquiry in more detail?  You can book a call with me here. Or, reply to this email with a time and I will add it to my calendar.  Looking forward to working with you soon!  Kindest Regards,   Henry Norman UCLan ONLINE |  Email:  Tel:  | WhatsApp:  LinkedIn:        --- Content of 17_Apr_2024_1443_Adeola_Oyetunji.docx ---  Subject:UCLan Online - Document status?  17 Apr 2024 at 14:43 GMT  Hey Adeola,  I hope you are well.  I am concerned we are going to have a repeat of January with you application as we are still waiting on documents to come through.  We need a copy of you transcripts and certificate.  I also responded to your email saying you need support with student finance and am yet to hear back from you.  Please kindly confirm that you are still interested in applying?  Best Wishes, Henry Norman UCLan ONLINE |  Email:  Tel:  | WhatsApp:  LinkedIn:         --- Content of 17_Jan_2023_0927_Adeola_Oyetunji.docx ---  Subject:UClan online – Nursing  Hi Adeola   I hope you are well! First of all my name is Richard and I’m a course advisor with University of Central Lancashire. I’d personally like to thank you for taking the time to enquire about our Nursing here at UCLan. I would like to offer my assistance with any initial questions you might have at this stage and throughout.  I would love to take a phone call and hear from you later today/ tomorrow in order to fill in any gaps of information about what we offer. I would also love to get know more about yourself and you’re background, as well as what interests you about our course. If you would prefer to arrange another way to talk, whether that’s email,Whatsapp or LinkedIn please let me know. If you have any specific time in mind,  In the meantime, to speed up the process if you would like to send me copy of your CV or LinkedIn profile for review I’d be pleased to advise you further.  Best wishes,  Richard Allman      --- Content of 17_Jan_2024_1821_Adeola_Oyetunji.docx ---  Subject:UCLan Online - Student Finance  17 Jan 2024 at 18:12 GMT  Hi Adeola,  Please see below for the link to apply for your student finance!    Best Wishes, Henry Norman UCLan ONLINE |  Email:  Tel:  | WhatsApp:  LinkedIn:        --- Content of 18_Jan_2024_0632_Adeola_Oyetunji.docx ---  Subject:Re: Fwd: UCLan Online - We have received your Application!  18 Jan 2024 at 06:32 GMT                  On Mon, 15 Jan 2024 at 16:08, Henry Norman <> wrote: Please see below for what we need!  Best Wishes, Henry Norman UCLan ONLINE |  Email:  Tel:  | WhatsApp:  LinkedIn:        -- To stop receiving these emails, click    ---------- Forwarded message --------- From: Henry Norman <> Date: Thursday, 11 January 2024, 13:24:00 Z Subject: UCLan Online - We have received your Application! To: Adeola Oyetunji <>   Hi Adeola,  I am contacting you on behalf of University of Central Lancashire admissions teams.  We are very grateful for your interest in our MSc Nursing(Distance Learning). The admissions team have reviewed your application and to complete the processing the need some additional documents.  Please kindly respond to this with the following documents: Extended CV, Personal Statement, - Approximately 500 words A section regarding your previous education history, A section regarding your recent academic or professional history, A section discussing your future interests and how you think this programme can help you achieve your goals. Full Degree Transcripts, Academic or Professional Reference, Copy of your Passport, Any additional Qualifications (As necessary). As soon as we receive these documents we can issue you a response.   Henry Norman UCLan ONLINE |  Email:  Tel:  | WhatsApp:  LinkedIn:        --- Content of 19_Apr_2023_1136_Adeola_Oyetunji.docx ---  Subject:UCLan Online - Student Panel Q&A Next week!  19 Apr 2023 11:36 GMT  Hi Adeola   How are you? I wanted to get in touch to see if you’re interested in coming to our upcoming student panel Q&A. We’d love you to join us.  Postgraduate Perspectives: a UCLan Student Q&A Tuesday 25 April, 6pm BST   This virtual event is a brilliant opportunity to meet some of our current online students and members of our student support teams. They’ll share their opinions, insights, and useful information about the virtual learning environment and student support. Plus, if you have any questions – this is your chance to ask.  As always, let me know if you need any extra details, and I hope to see you there!  Kind regards,   Richard Allman Student Course Advisor Email:  Tel.:  WhatssApp:       --- Content of 20_Dec_2023_0434_Adeola_Oyetunji.docx ---  Subject:Re: Adeola - Online confirmation  20 Dec 2023 at 04:34 GMT  To whom it may concern,   I wish to confirm that my application is for the online MSc Nursing  programme and will start in January 2024.  I sincerely apologise for any inconveniences this might have caused.   Thanks for your understanding.   Kind Regards  Adeola Oyetunji      On Tue, 19 Dec 2023 at 16:28, Henry Norman <> wrote: Hey Adeola,  Please can you respond to this email confirming that you wish that you application is for the online MSc Nursing programme and the January start date.  If you can respond saying exactly that, it will be great, I can then get it transfered over before the holiday break!  Best Wishes, Henry Norman UCLan ONLINE |  Email:  Tel:  | WhatsApp:  LinkedIn:        --- Content of 20_Dec_2023_1628_Adeola_Oyetunji.docx ---  Subject:Adeola - Online confirmation  20 Dec 2023 at 16:28 GMT  Hey Adeola,  Please can you respond to this email confirming that you wish that you application is for the online MSc Nursing programme and the January start date.  If you can respond saying exactly that, it will be great, I can then get it transfered over before the holiday break!  Best Wishes, Henry Norman UCLan ONLINE |  Email:  Tel:  | WhatsApp:  LinkedIn:        --- Content of 20_Dec_2023_1727_Adeola_Oyetunji.docx ---  Subject:Re: Adeola - Online confirmation  20 Dec 2023 at 17:27 GMT            Hi  I have attached my proof of identification. Thank you.   Kind Regards  Adeola        On Wed, 20 Dec 2023 at 9:03, Henry Norman <> wrote: Hey Adeola,  Thank you so much for getting this over to me. We have initiated the transfer over to online.  If you are able to send me all of your documents ASAP I can upload them directly to the admissions team and get your application processed before the Christmas closure!  Best Wishes, Henry  Henry Norman UCLan ONLINE |  Email:  Tel:  | WhatsApp:  LinkedIn:       From: Adeola Oyetunji <> Sent: Wednesday, December 20, 2023 2:34 AM To: Henry Norman (Staff) <> Subject: Re: Adeola - Online confirmation   To whom it may concern,   I wish to confirm that my application is for the online MSc Nursing  programme and will start in January 2024.  I sincerely apologise for any inconveniences this might have caused.   Thanks for your understanding.   Kind Regards  Adeola Oyetunji      On Tue, 19 Dec 2023 at 16:28, Henry Norman <> wrote: Hey Adeola,  Please can you respond to this email confirming that you wish that you application is for the online MSc Nursing programme and the January start date.  If you can respond saying exactly that, it will be great, I can then get it transfered over before the holiday break!  Best Wishes, Henry Norman UCLan ONLINE |  Email:  Tel:  | WhatsApp:  LinkedIn:          --- Content of 20_Dec_2023_1828_Adeola_Oyetunji.docx ---  Subject:Re: Adeola - Online confirmation 20 Dec 2023 at 18:28 GMT  Hey Adeola,  Thank you so much for getting this over to me. We have initiated the transfer over to online.  If you are able to send me all of your documents ASAP I can upload them directly to the admissions team and get your application processed before the Christmas closure!  Best Wishes, Henry  Henry Norman UCLan ONLINE |  Email:  Tel:  | WhatsApp:  LinkedIn:       To whom it may concern,   I wish to confirm that my application is for the online MSc Nursing  programme and will start in January 2024.  I sincerely apologise for any inconveniences this might have caused.   Thanks for your understanding.   Kind Regards  Adeola Oyetunji      On Tue, 19 Dec 2023 at 16:28, Henry Norman <> wrote: Hey Adeola,  Please can you respond to this email confirming that you wish that you application is for the online MSc Nursing programme and the January start date.  If you can respond saying exactly that, it will be great, I can then get it transfered over before the holiday break!  Best Wishes, Henry Norman UCLan ONLINE |  Email:  Tel:  | WhatsApp:  LinkedIn:        --- Content of 21_Dec_2023_1800_Adeola_Oyetunji.docx ---  Subject:Happy Holidays - Quick Message from me!  21 Dec 2023 at 18:00 GMT  Hi Adeola,  I hope you're well! I just wanted to say I hope you have a lovely Holiday break and New Years!  I am very much looking forward to picking up where we left off in the new year and getting you ready to begin your programme and start your new journey!  I'll be taking a few days off in-between the Christmas period starting from the 21/12/23 and will return on the 27/12/23 if you have any questions don't hesitate to contact me and I will get back to you as soon as I can.  Happy Holidays and Happy New Year!  Kind regards  Henry Norman UCLan ONLINE |  Email:  Tel:  | WhatsApp:  LinkedIn:        --- Content of 21_Dec_2023_1830_Adeola_Oyetunji.docx ---  Subject:Re: Happy Holidays - Quick Message from me!  21 Dec 2023 at 18:30 GMT  Hi Henry,   Thank for letting me know. Wishing you Merry Christmas and Happy New year in advance.   Kind Regards  Adeola      On Wed, 20 Dec 2023 at 16:00, Henry Norman <> wrote: Hi Adeola,  I hope you're well! I just wanted to say I hope you have a lovely Holiday break and New Years!  I am very much looking forward to picking up where we left off in the new year and getting you ready to begin your programme and start your new journey!  I'll be taking a few days off in-between the Christmas period starting from the 21/12/23 and will return on the 27/12/23 if you have any questions don't hesitate to contact me and I will get back to you as soon as I can.  Happy Holidays and Happy New Year!  Kind regards  Henry Norman UCLan ONLINE |  Email:  Tel:  | WhatsApp:  LinkedIn:        --- Content of 26_Jan_2024_1604_Adeola_Oyetunji.docx ---  Subject:UCLan Online - You have 4 Days to Accept your Offer!  26 Jan 2024 at 16:04 GMT  Hello Adeola,   Just a quick email before the weekend. We are now only 4 days away from the deadline of the 30th to accept your offer. I have tried to contact you, to help you through the next steps on a few occasions but have been unable to get through to you successfully.  Please can you reply with the attached conditions so we can proceed. Anything later than Tuesday 30th will potentially be too late for processing.  - Receipt of a satisfactory personal statement - Receipt of a satisfactory personal statement - Evidence of NMC registration  If you do not accept your offer and have conditions met by this date your offer will be automatically withdrawn.  Please let me know how you would like to proceed.  Best Wishes, Henry Norman UCLan ONLINE |  Email:  Tel:  | WhatsApp:  LinkedIn:         --- Content of 27_Mar_2024_1746_Adeola_Oyetunji.docx ---  Subject:Adeola - Here is the Application Guidance! 27 Mar 2024 at 17:46 GMT  Hello Adeola ,  Thank you for your time just now. Based on our conversation, I feel you're a great candidate to apply. This email outlines everything you need for a successful application. If you would like me to review your personal statement before you submit it, please send it to me for feedback. I am also including the brochure and the syllabus for you to have a read through.  I look forward to talking with you again next week on Tuesday 15:30.  For the Government Loan please visit this link:   When you are ready to your begin making your application, please visit this link here:   Please select the following options when prompted: Part-time MSc Nursing(Distance Learning) Preston Campus  You will need the following documents ready for when you apply: Extended CV, Personal Statement, - Approximately 500 words A section regarding your previous education history, A section regarding your recent academic or professional history, A section discussing your future interests and how you think this programme can help you achieve your goals. Full Degree Transcripts, Academic or Professional Reference Evidence of Registration, Copy of your passport, Any additional Training certificates (As necessary) Best Wishes, Henry Norman UCLan ONLINE |  Email:  Tel:  | WhatsApp:  LinkedIn:         --- Content of 29_Nov_2023_1856_Adeola_Oyetunji.docx ---  Subject:Adeola - Here is the Application Guidance!  29 Nov 2023 at 18:58 GMT  Hello Adeola ,  Thank you for your time just now. Based on our conversation, I feel you're a great candidate to apply. This email outlines everything you need for a successful application. If you would like me to review your personal statement before you submit it, please send it to me for feedback.  I look forward to speaking with you tomorrow at 15:00!  When you are ready to your begin making your application, please visit this link here:  Please select the MSc Nursing(Distance Learning) Programme.  You will need the following documents ready for when you apply: Extended CV, Personal Statement, - Approximately 500 words A section regarding your previous education history, A section regarding your recent academic or professional history, A section discussing your future interests and how you think this programme can help you achieve your goals. Full Degree Transcripts, Academic or Professional Reference Any additional Qualifications (As necessary). Best Wishes, Henry Norman UCLan ONLINE |  Email:  Tel:  | WhatsApp:  LinkedIn:        --- Content of 30_Jan_2023_0546_Adeola_Oyetunji.docx ---  Subject:Your Application - UCLan Online  30 Jan 2023 at 05:46 GMT  Hello Adeola   First of all to apply I need some help from you. When applying make sure you have the following documents to submit; Up-to-date copy of your CV/Resume Supporting Statement of around 500 words Copy of your undergraduate degree certificate and academic transcript Contact details of one referee (Ideally academic) English Language qualification (if appropriate) Postgraduate or professional certifications (Optional) Passport I’ve also attached some guidance on writing your  The personal statement should be between 500-1000 words and should answer 3 questions: 1,Where are you now? 2,Where would you like to be? 3,How this course will help to achieve this?  Once you've completed all this, you can , you will need to choose Nursing, Distance Learning and should have this code on bracket:  Also, I have attached reference form, whether academic or from your employer, please provide them with my email address:  so once it is done it can be send straight to me.  Upon completion of your application, your documents will be go through a review process and the decision will be made as soon as possible. Once again, Thank you very much for you interest and I wish you the best of luck in your application. Please do no hesitate to contact me again via whatsapp, phone or email.  I will be in touch with you on Friday to see how you are progressing.  Best wishes,       --- Content of 4_Apr_2024_1411_Adeola_Oyetunji.docx ---  Subject:UCLan Online - Application Transfer 4 Apr 2024 at 14:11 GMT  Hey Adeola,  We have found your application and we need to have it transferred to Online and for the MSc Nursing programme.  Please can you email a response to me and confirm that you wish: To Study MSc Nursing To Study Online and Part-time To Start in the May intake I very much look forward to your response, as soon as we can get this transferred the sooner we can get you a response from the admissions team!  Best Wishes, Henry Norman UCLan ONLINE |  Email:  Tel:  | WhatsApp:  LinkedIn:        --- Content of 4_May_2024_0933_Adeola_Oyetunji.docx ---  Subject:UCLAN Online - MSc Nursing Coffee Session SOON  4 May 2023 09:33 GMT  Hello Adeola ,  I hope that you are doing well!  I am very excited to announce that next week we will be hosting our FIRST virtual coffee session of the year.  We will be holding our  Virtual Coffee Session on Thursday the 11th of May at 18:00 (BST).  I would love to extend to you an invitation to attend the session. This session will be hosted by our student recruitment consultant team and we are welcoming any students that have shown an interest in Nursing.  For one hour we will be hosting an open floor Q&A to give you all the opportunity to ask us questions regarding the programme and what being a UCLan student is all about.  If you are able to prepare some questions for our team they will be able to make sure you leave the session knowing everything you need to know to become one of our many successful Postgraduate students!  If you are thinking of attending, please could you RSVP with your course adviser so that we know you are wanting to attend?  To Join us please use the information below:  Microsoft Teams meeting Join on your computer, mobile app or room device  Meeting ID: 389 545 821 922  Passcode: xe7ofn  |  Or call in (audio only) +44 20 7660 8211,,957023035# United Kingdom, London Phone Conference ID: 957 023 035#  |   |    We really do look forward to hosting this event and having a great discussion together. Bring your coffee and notepad and we'll see you there!  Kind Regards,   Richard Allman Student Course Advisor Email:  Tel.:  WhatssApp:       --- Content of 6_Apr_2024_0631_Adeola_Oyetunji.docx ---  Subject:Re: UCLan Online - Application Transfer  6 Apr 2024 at 06:31 GMT  Hi Henry,  I wish to apply for MSc Nursing, part time to start in May. Thank you  Adeola   On Thursday, 4 April 2024 at 13:11:15 BST, Henry Norman <> wrote:   Hey Adeola,  We have found your application and we need to have it transferred to Online and for the MSc Nursing programme.  Please can you email a response to me and confirm that you wish: To Study MSc Nursing To Study Online and Part-time To Start in the May intake I very much look forward to your response, as soon as we can get this transferred the sooner we can get you a response from the admissions team!  Best Wishes, Henry Norman UCLan ONLINE |  Email:  Tel:  | WhatsApp:  LinkedIn:        --- Content of 6_Dec_2023_1800_Adeola_Oyetunji.docx ---  Subject:Adeola - Here is the Application Guidance!  6 Dec 2023 at 18:00 GMT  Hello Adeola ,  Thank you for your time just now. Based on our conversation, I feel you're a great candidate to apply. This email outlines everything you need for a successful application. If you would like me to review your personal statement before you submit it, please send it to me for feedback.  When you are ready to your begin making your application, please visit this link here:   Please select the MSc Nursing(Distance Learning) Programme You will need the following documents ready for when you apply: Extended CV, Personal Statement, - Approximately 500 words A section regarding your previous education history, A section regarding your recent academic or professional history, A section discussing your future interests and how you think this programme can help you achieve your goals. Full Degree Transcripts, Academic or Professional Reference Evidence of Registration, Copy of Passport Any additional Training certificates (As necessary). Best Wishes, Henry Norman UCLan ONLINE |  Email:  Tel:  | WhatsApp:  LinkedIn:        --- Content of 7_Feb_2023_1600_Adeola_Oyetunji.docx ---  Subject:UClan - MSc Nursing  7 Feb 2023 at 16:00 GMT   Hi Adeola,  It has been a week since you told me that your personal statement is ready, however, I still have not received anything.  Can you be so kind and let me know if you are still interested to put the application in?  Thank you Richard   Richard Allman Student Course Advisor Email:  Tel.:  WhatssApp:       --- Content of 8_Apr_2024_1017_Adeola_Oyetunji.docx ---  Subject:Re: UCLan Online - Application Transfer  8 Apr 2024 at 10:17 GMT  Hey Adeola,  Brilliant, thank you for getting this sorted.   I will get the admissions team to transfer you over to the online programme ASAP.  We should hopefully issue you a response very soon.   Have you been able to apply for your student finance at all?  Let me know if you have any questions.  Best Wishes, Henry Norman UCLan ONLINE |  Email:  Tel:  | WhatsApp:  LinkedIn:       Hi Henry,  I wish to apply for MSc Nursing, part time to start in May. Thank you  Adeola   On Thursday, 4 April 2024 at 13:11:15 BST, Henry Norman <> wrote:   Hey Adeola,  We have found your application and we need to have it transferred to Online and for the MSc Nursing programme.  Please can you email a response to me and confirm that you wish: To Study MSc Nursing To Study Online and Part-time To Start in the May intake I very much look forward to your response, as soon as we can get this transferred the sooner we can get you a response from the admissions team!  Best Wishes, Henry Norman UCLan ONLINE |  Email:  Tel:  | WhatsApp:  LinkedIn:         --- Content of 9_Apr_2024_1654_Adeola_Oyetunji.docx ---  Subject:UCLan Online - Additional Documents Required!  9 Apr 2024 at 16:54 GMT  Hey Adeola,  Thanks for talking with me just now.  As we discussed, for us to complete the processing of your application we need some additional documents. Please can you send directly to me the following documents so that I can upload them and get your application processed straight away. Extended CV, Personal Statement, - Approximately 500 words A section regarding your previous education history, A section regarding your recent academic or professional history, A section discussing your future interests and how you think this programme can help you achieve your goals. Full Degree Certificate & Transcripts, Academic or Professional Reference, Evidence of Registration, Copy of Your Passport, Any additional Training certificates (As necessary). If you need any help please let me know. Hopefully we can get this completed this week so we can issue you an offer.  I look forward to hearing back from you soon.  Best Wishes, Henry Norman UCLan ONLINE |  Email:  Tel:  | WhatsApp:  LinkedIn: \n"
     ]
    },
    {
     "name": "stdout",
     "output_type": "stream",
     "text": [
      "Generated 1 documents.\n",
      "['generate_summary']\n",
      "['collect_summaries']\n",
      "['generate_final_summary']\n"
     ]
    }
   ],
   "source": [
    "hi = await main()"
   ]
  },
  {
   "cell_type": "code",
   "execution_count": 35,
   "id": "38d1a51d",
   "metadata": {},
   "outputs": [
    {
     "name": "stdout",
     "output_type": "stream",
     "text": [
      "Student Persona\n",
      "Name: Adeola Oyetunji\n",
      "Age: NA\n",
      "Location: NA\n",
      "Interest: Online MSc Nursing\n",
      "Behavior: Responsive, motivated, seeking assistance with student finance application\n",
      "Dislikes: NA\n",
      "Likes: Flexibility of online program\n",
      "Modes of Communication: Email\n",
      "Preferred Communication: Email\n",
      "\n",
      "Potential Campaign\n",
      "Theme: \"Supporting Your Journey to Online Nursing Excellence\"\n",
      "Content Focus: Showcase financial aid options, highlight flexible schedules, provide resources for a smooth transition to online learning\n",
      "Platforms: Email marketing, webinars, blog posts, social media ads\n",
      "\n",
      "Sales Strategy\n",
      "Personalized Sales Pitch: Dear Adeola, we understand that transitioning to our Online MSc Nursing program is an exciting step in your career. We're here to support you every step of the way, especially with your student finance application. Our dedicated team will guide you through the process, ensuring a smooth transition. With our flexible online schedule, you'll be able to balance your studies with your personal and professional life. Let's work together to achieve your goals in nursing excellence.\n",
      "\n",
      "Sentiment\n",
      "Student Sentiment: Anxious\n",
      "\n",
      "Lead Score\n",
      "Lead Interest Level: High\n"
     ]
    }
   ],
   "source": [
    "print(hi)"
   ]
  },
  {
   "cell_type": "markdown",
   "id": "e51e0340",
   "metadata": {},
   "source": [
    "### Langchain"
   ]
  },
  {
   "cell_type": "code",
   "execution_count": 5,
   "id": "98164640",
   "metadata": {},
   "outputs": [],
   "source": [
    "os.environ[\"AZURE_OPENAI_API_KEY\"] = \"ee65aca022a74803b2e2d1ff4c373b05\"\n",
    "os.environ[\"AZURE_OPENAI_ENDPOINT\"] = \"https://firstsource.openai.azure.com/\"\n",
    "os.environ[\"AZURE_OPENAI_API_VERSION\"] = \"2024-05-01-preview\"\n",
    "os.environ[\"AZURE_OPENAI_CHAT_DEPLOYMENT_NAME\"] = \"gpt4\"\n",
    "ENDPOINT = \"https://finetuningtest3607433214.openai.azure.com/openai/deployments/gpt-4o-2024-08-06-studentdata/chat/completions?api-version=2024-02-15-preview\"\n",
    "\n",
    "# llm = AzureChatOpenAI(\n",
    "# api_key=os.environ[\"AZURE_OPENAI_API_KEY\"],\n",
    "# api_version=os.environ[\"AZURE_OPENAI_API_VERSION\"],\n",
    "# azure_endpoint=os.environ[\"AZURE_OPENAI_ENDPOINT\"],\n",
    "# azure_deployment=os.environ[\"AZURE_OPENAI_CHAT_DEPLOYMENT_NAME\"],\n",
    "# model='gpt-4o'\n",
    "# )"
   ]
  },
  {
   "cell_type": "code",
   "execution_count": 52,
   "id": "68454732",
   "metadata": {},
   "outputs": [],
   "source": [
    "import os\n",
    "\n",
    "os.environ[\"OPENAI_API_VERSION\"] = \"2023-12-01-preview\"\n",
    "os.environ[\"AZURE_OPENAI_ENDPOINT\"] = \"https://finetuningtest3607433214.openai.azure.com/\"\n",
    "os.environ[\"AZURE_OPENAI_API_KEY\"] = \"3705201e84d74f23b1153f93a6b2defd\""
   ]
  },
  {
   "cell_type": "code",
   "execution_count": 14,
   "id": "913f72c8",
   "metadata": {},
   "outputs": [],
   "source": [
    "# Import Azure OpenAI\n",
    "from langchain_openai import AzureOpenAI"
   ]
  },
  {
   "cell_type": "code",
   "execution_count": 30,
   "id": "5dbc6cd0",
   "metadata": {},
   "outputs": [],
   "source": [
    "# Create an instance of Azure OpenAI\n",
    "# Replace the deployment name with your own\n",
    "llm = AzureOpenAI(deployment_name=\"gpt-4o-2024-08-06-studentdata\")"
   ]
  },
  {
   "cell_type": "code",
   "execution_count": 53,
   "id": "711f6e68",
   "metadata": {},
   "outputs": [],
   "source": [
    "llm = AzureChatOpenAI(\n",
    "api_key=os.environ[\"AZURE_OPENAI_API_KEY\"],\n",
    "api_version=os.environ[\"AZURE_OPENAI_API_VERSION\"],\n",
    "azure_endpoint=os.environ[\"AZURE_OPENAI_ENDPOINT\"],\n",
    "azure_deployment=\"gpt-4o-2024-08-06-studentdata\"\n",
    ")"
   ]
  },
  {
   "cell_type": "code",
   "execution_count": 18,
   "id": "9f812ac8",
   "metadata": {},
   "outputs": [],
   "source": []
  },
  {
   "cell_type": "code",
   "execution_count": 54,
   "id": "a4056397",
   "metadata": {},
   "outputs": [
    {
     "data": {
      "text/plain": [
       "\"Subject: Re: Application Process and Financial Concerns\\n\\nHi Adeola,\\n\\nI hope this message finds you well. I understand from your recent email that you're feeling frustrated with the financial application process. It's completely normal to feel this way, and I want to assure you that we're here to support you.\\n\\nRegarding your concern about sorting out finances after receiving your admission confirmation, it's a common approach for many students. We'll provide guidance and resources to help you navigate this process smoothly.\\n\\nAdditionally, I noticed you mentioned the possibility of transferring your application to the MSc Nursing program. If you'd like to explore this option further, please let us know, and we'll be happy to assist you with the necessary steps.\\n\\nRemember, you're not alone in this journey, and we're here to help you every step of the way.\\n\\nBest regards,\\n\\n[Your Name]  \\n[Your Position]  \\n[Your Contact Information]\""
      ]
     },
     "execution_count": 54,
     "metadata": {},
     "output_type": "execute_result"
    }
   ],
   "source": [
    "llm.invoke(final_summary).content"
   ]
  },
  {
   "cell_type": "code",
   "execution_count": 61,
   "id": "a32e0ecb",
   "metadata": {},
   "outputs": [
    {
     "data": {
      "text/plain": [
       "'1. 10 Apr 2024, Email, Adeola Oyetunji, Medium interest, Frustrated: Student struggles with applying for finance, will sort after admission confirmation; application transfer for MSc Nursing discussed.'"
      ]
     },
     "execution_count": 61,
     "metadata": {},
     "output_type": "execute_result"
    }
   ],
   "source": [
    "from langchain_core.prompts import ChatPromptTemplate\n",
    "\n",
    "prompt_template = ChatPromptTemplate.from_messages([\n",
    "    (\"system\", parameters_prompt),\n",
    "    (\"user\", \"{topic}\")\n",
    "])\n",
    "\n",
    "prompt_template.invoke({\"topic\": final_summary}).messages[1].content"
   ]
  },
  {
   "cell_type": "code",
   "execution_count": 76,
   "id": "f4671474",
   "metadata": {},
   "outputs": [
    {
     "name": "stdout",
     "output_type": "stream",
     "text": [
      "Running on local URL:  http://127.0.0.1:7865\n",
      "\n",
      "To create a public link, set `share=True` in `launch()`.\n"
     ]
    },
    {
     "data": {
      "text/html": [
       "<div><iframe src=\"http://127.0.0.1:7865/\" width=\"100%\" height=\"500\" allow=\"autoplay; camera; microphone; clipboard-read; clipboard-write;\" frameborder=\"0\" allowfullscreen></iframe></div>"
      ],
      "text/plain": [
       "<IPython.core.display.HTML object>"
      ]
     },
     "metadata": {},
     "output_type": "display_data"
    },
    {
     "data": {
      "text/plain": []
     },
     "execution_count": 76,
     "metadata": {},
     "output_type": "execute_result"
    }
   ],
   "source": [
    "def add(a):\n",
    "    return \"Hi\"\n",
    "\n",
    "with gr.Blocks() as demo:\n",
    "    with gr.Column(scale=1):\n",
    "        text1 = gr.Textbox()\n",
    "    with gr.Row():\n",
    "        text2 = gr.Textbox()\n",
    "    btn = gr.Button(\"Run\")\n",
    "    btn.click(fn=add, inputs=text1, outputs=text2)\n",
    "\n",
    "demo.launch()"
   ]
  },
  {
   "cell_type": "code",
   "execution_count": 68,
   "id": "91c827f1",
   "metadata": {},
   "outputs": [
    {
     "name": "stdout",
     "output_type": "stream",
     "text": [
      "Running on local URL:  http://127.0.0.1:7861\n",
      "\n",
      "Could not create share link. Please check your internet connection or our status page: https://status.gradio.app.\n"
     ]
    },
    {
     "data": {
      "text/html": [
       "<div><iframe src=\"http://127.0.0.1:7861/\" width=\"100%\" height=\"500\" allow=\"autoplay; camera; microphone; clipboard-read; clipboard-write;\" frameborder=\"0\" allowfullscreen></iframe></div>"
      ],
      "text/plain": [
       "<IPython.core.display.HTML object>"
      ]
     },
     "metadata": {},
     "output_type": "display_data"
    },
    {
     "data": {
      "text/plain": []
     },
     "execution_count": 68,
     "metadata": {},
     "output_type": "execute_result"
    }
   ],
   "source": [
    "iface = gr.Interface(fn=add, inputs=\"text\", outputs=\"text\", title=\"Text Processing App\")\n",
    "\n",
    "iface.launch(share=True)"
   ]
  },
  {
   "cell_type": "code",
   "execution_count": 63,
   "id": "dab2f59e",
   "metadata": {},
   "outputs": [],
   "source": [
    "import gradio as gr"
   ]
  },
  {
   "cell_type": "code",
   "execution_count": 23,
   "id": "32ef7fe5",
   "metadata": {},
   "outputs": [],
   "source": []
  },
  {
   "cell_type": "code",
   "execution_count": null,
   "id": "1097b04f",
   "metadata": {},
   "outputs": [],
   "source": []
  },
  {
   "cell_type": "code",
   "execution_count": null,
   "id": "e8526881",
   "metadata": {},
   "outputs": [],
   "source": []
  },
  {
   "cell_type": "code",
   "execution_count": null,
   "id": "ab35147c",
   "metadata": {},
   "outputs": [],
   "source": []
  },
  {
   "cell_type": "code",
   "execution_count": null,
   "id": "58c32e4b",
   "metadata": {},
   "outputs": [],
   "source": []
  },
  {
   "cell_type": "code",
   "execution_count": null,
   "id": "68e24827",
   "metadata": {},
   "outputs": [],
   "source": []
  },
  {
   "cell_type": "code",
   "execution_count": null,
   "id": "4c9791f1",
   "metadata": {},
   "outputs": [],
   "source": []
  },
  {
   "cell_type": "code",
   "execution_count": null,
   "id": "1ca68142",
   "metadata": {},
   "outputs": [],
   "source": []
  },
  {
   "cell_type": "code",
   "execution_count": null,
   "id": "a3bf26fe",
   "metadata": {},
   "outputs": [],
   "source": []
  },
  {
   "cell_type": "code",
   "execution_count": null,
   "id": "625fda2b",
   "metadata": {},
   "outputs": [],
   "source": []
  },
  {
   "cell_type": "code",
   "execution_count": null,
   "id": "c89931c1",
   "metadata": {},
   "outputs": [],
   "source": []
  },
  {
   "cell_type": "code",
   "execution_count": null,
   "id": "d4d1749d",
   "metadata": {},
   "outputs": [],
   "source": []
  },
  {
   "cell_type": "code",
   "execution_count": null,
   "id": "ee47a83f",
   "metadata": {},
   "outputs": [],
   "source": []
  },
  {
   "cell_type": "code",
   "execution_count": null,
   "id": "160dafb0",
   "metadata": {},
   "outputs": [],
   "source": []
  },
  {
   "cell_type": "code",
   "execution_count": null,
   "id": "6d518cf6",
   "metadata": {},
   "outputs": [],
   "source": []
  },
  {
   "cell_type": "code",
   "execution_count": null,
   "id": "8aacf100",
   "metadata": {},
   "outputs": [],
   "source": []
  },
  {
   "cell_type": "code",
   "execution_count": null,
   "id": "28b6910d",
   "metadata": {},
   "outputs": [],
   "source": []
  }
 ],
 "metadata": {
  "kernelspec": {
   "display_name": "Python 3 (ipykernel)",
   "language": "python",
   "name": "python3"
  },
  "language_info": {
   "codemirror_mode": {
    "name": "ipython",
    "version": 3
   },
   "file_extension": ".py",
   "mimetype": "text/x-python",
   "name": "python",
   "nbconvert_exporter": "python",
   "pygments_lexer": "ipython3",
   "version": "3.9.12"
  }
 },
 "nbformat": 4,
 "nbformat_minor": 5
}
